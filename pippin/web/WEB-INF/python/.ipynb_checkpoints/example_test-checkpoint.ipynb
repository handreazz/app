{
 "cells": [
  {
   "cell_type": "code",
   "execution_count": 82,
   "metadata": {},
   "outputs": [],
   "source": [
    "from sklearn.feature_extraction.text import CountVectorizer\n",
    "vectorizer = CountVectorizer(analyzer=\"word\")\n",
    "\n",
    "test = \"why why why why why wont wont wont wont apple apple this this this work\"\n",
    "test1 = \"why wont wont this work\"\n",
    "vocab = [\"why\",\"wont\",\"work\"]\n",
    "\n",
    "data_features = vectorizer.fit_transform([test])"
   ]
  },
  {
   "cell_type": "code",
   "execution_count": 83,
   "metadata": {},
   "outputs": [
    {
     "data": {
      "text/plain": [
       "array([2, 3, 5, 4, 1], dtype=int64)"
      ]
     },
     "execution_count": 83,
     "metadata": {},
     "output_type": "execute_result"
    }
   ],
   "source": [
    "data_features.toarray()[0] # the length is equal to the number of unique words in test"
   ]
  },
  {
   "cell_type": "code",
   "execution_count": 84,
   "metadata": {},
   "outputs": [
    {
     "data": {
      "text/plain": [
       "{('why', 2), ('wont', 3), ('work', 5)}"
      ]
     },
     "execution_count": 84,
     "metadata": {},
     "output_type": "execute_result"
    }
   ],
   "source": [
    "set(zip(vocab, data_features.toarray()[0]))"
   ]
  },
  {
   "cell_type": "markdown",
   "metadata": {},
   "source": [
    "In our \"test\", the words and counts are :\n",
    "\"why\" : 5 \n",
    "\"wont\": 4\n",
    "\"apple\": 2\n",
    "\"this\": 3\n",
    "\"work\": 1 \n",
    "\n",
    "The values of data_features.toarray()[0] is: [2, 3, 5, 4, 1]\n",
    "\n",
    "so it means that the words are arranged in alphabetical order as: [\"apple\",\"this\",\"why\",\"wont\",\"work\"]"
   ]
  },
  {
   "cell_type": "code",
   "execution_count": 85,
   "metadata": {},
   "outputs": [
    {
     "name": "stdout",
     "output_type": "stream",
     "text": [
      "why : 2\n",
      "wont : 3\n",
      "work : 5\n"
     ]
    }
   ],
   "source": [
    "for word, count in zip(vocab, data_features.toarray()[0]):\n",
    "    if count > 0:\n",
    "        print(word, \":\", count)"
   ]
  },
  {
   "cell_type": "markdown",
   "metadata": {},
   "source": [
    "the length of \"vocab\" and \"data_features.toarray()[0]\" are not equal. we only have three words in vocab, but 5 counts in the list. I think that is why you got the problem."
   ]
  },
  {
   "cell_type": "code",
   "execution_count": null,
   "metadata": {},
   "outputs": [],
   "source": []
  }
 ],
 "metadata": {
  "kernelspec": {
   "display_name": "Python 3",
   "language": "python",
   "name": "python3"
  },
  "language_info": {
   "codemirror_mode": {
    "name": "ipython",
    "version": 3
   },
   "file_extension": ".py",
   "mimetype": "text/x-python",
   "name": "python",
   "nbconvert_exporter": "python",
   "pygments_lexer": "ipython3",
   "version": "3.7.0"
  }
 },
 "nbformat": 4,
 "nbformat_minor": 2
}
