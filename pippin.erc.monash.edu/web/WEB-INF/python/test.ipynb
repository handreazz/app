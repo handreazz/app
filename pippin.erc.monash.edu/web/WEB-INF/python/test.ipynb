{
 "cells": [
  {
   "cell_type": "code",
   "execution_count": 1,
   "metadata": {},
   "outputs": [
    {
     "name": "stdout",
     "output_type": "stream",
     "text": [
      "Requirement already satisfied: numpy in /Users/hezhang/Library/Python/3.7/lib/python/site-packages (1.15.0)\n",
      "Requirement already satisfied: xgboost in /Library/Frameworks/Python.framework/Versions/3.7/lib/python3.7/site-packages (0.82)\n",
      "Requirement already satisfied: numpy in /Users/hezhang/Library/Python/3.7/lib/python/site-packages (from xgboost) (1.15.0)\n",
      "Requirement already satisfied: scipy in /Library/Frameworks/Python.framework/Versions/3.7/lib/python3.7/site-packages (from xgboost) (1.1.0)\n",
      "Requirement already satisfied: pandas in /Library/Frameworks/Python.framework/Versions/3.7/lib/python3.7/site-packages (0.23.4)\n",
      "Requirement already satisfied: numpy>=1.9.0 in /Users/hezhang/Library/Python/3.7/lib/python/site-packages (from pandas) (1.15.0)\n",
      "Requirement already satisfied: python-dateutil>=2.5.0 in /Library/Frameworks/Python.framework/Versions/3.7/lib/python3.7/site-packages (from pandas) (2.7.5)\n",
      "Requirement already satisfied: pytz>=2011k in /Library/Frameworks/Python.framework/Versions/3.7/lib/python3.7/site-packages (from pandas) (2018.7)\n",
      "Requirement already satisfied: six>=1.5 in /Library/Frameworks/Python.framework/Versions/3.7/lib/python3.7/site-packages (from python-dateutil>=2.5.0->pandas) (1.11.0)\n",
      "Requirement already satisfied: iFeature in /Library/Frameworks/Python.framework/Versions/3.7/lib/python3.7/site-packages (0.0.6)\n"
     ]
    }
   ],
   "source": [
    "!pip3 install numpy\n",
    "!pip3 install xgboost\n",
    "!pip3 install pandas\n",
    "!pip3 install iFeature"
   ]
  },
  {
   "cell_type": "code",
   "execution_count": 12,
   "metadata": {},
   "outputs": [],
   "source": [
    "import iFeature as ifea\n",
    "import os\n",
    "import re\n",
    "import xgboost as xgb\n",
    "import pandas as pd\n",
    "import numpy\n",
    "import pickle\n",
    "import sys\n",
    "\n",
    "\n",
    "# input_file = \"input.fasta\"   # you can change the input fasta file here"
   ]
  },
  {
   "cell_type": "code",
   "execution_count": 15,
   "metadata": {},
   "outputs": [
    {
     "name": "stdout",
     "output_type": "stream",
     "text": [
      "-f\n",
      "-1\n"
     ]
    }
   ],
   "source": [
    "input_file = sys.argv[1]\n",
    "print(sys.argv[1])\n",
    "indexOfLast = input_file.rfind(\"/\")\n",
    "outputFolder = input_file[0,indexOfLast]\n",
    "print(outputFolder)"
   ]
  },
  {
   "cell_type": "code",
   "execution_count": 3,
   "metadata": {},
   "outputs": [],
   "source": [
    "# # download ifeature values \n",
    "# def calculateIFeature(fname):\n",
    "#     os.system(\"python ./iFeature.py --file %s --type %s --order alphabetically --out %s\" % (input_file,\"APAAC\",\"output/APAAC.txt\"))\n",
    "#     os.system(\"python ./iFeature.py --file %s --type %s --order alphabetically --out %s\" % (input_file,\"CKSAAGP\",\"output/CKSAAGP.txt\"))\n",
    "#     os.system(\"python ./iFeature.py --file %s --type %s --order alphabetically --out %s\" % (input_file,\"CKSAAP\",\"output/CKSAAP.txt\"))\n",
    "#     os.system(\"python ./iFeature.py --file %s --type %s --order alphabetically --out %s\" % (input_file,\"CTDD\",\"output/CTDD.txt\"))\n",
    "#     os.system(\"python ./iFeature.py --file %s --type %s --order alphabetically --out %s\" % (input_file,\"DPC\",\"output/DPC.txt\"))\n",
    "#     os.system(\"python ./iFeature.py --file %s --type %s --order alphabetically --out %s\" % (input_file,\"GTPC\",\"output/GTPC.txt\"))\n",
    "#     os.system(\"python ./iFeature.py --file %s --type %s --order alphabetically --out %s\" % (input_file,\"NMBroto\",\"output/NMBroto.txt\"))\n",
    "# calculateIFeature(input_file)"
   ]
  },
  {
   "cell_type": "code",
   "execution_count": 4,
   "metadata": {},
   "outputs": [],
   "source": [
    "# import subprocess\n",
    "# p = subprocess.Popen(\"python ./iFeature.py --file input.fasta --type DDE --out output/DDEtest.txt\", shell=True,stdin = subprocess.PIPE, stdout = subprocess.PIPE) \n",
    "# output = p.communicate()[0]\n",
    "# print(output)"
   ]
  },
  {
   "cell_type": "code",
   "execution_count": 5,
   "metadata": {},
   "outputs": [],
   "source": [
    "# !python ./iFeature.py --file input.fasta --type DDE --out output/DDEtest.txt"
   ]
  },
  {
   "cell_type": "code",
   "execution_count": 6,
   "metadata": {},
   "outputs": [],
   "source": [
    "# read the sequences\n",
    "from Bio import SeqIO\n",
    "record_dict = SeqIO.to_dict(SeqIO.parse(input_file, \"fasta\"))"
   ]
  },
  {
   "cell_type": "code",
   "execution_count": 7,
   "metadata": {},
   "outputs": [],
   "source": [
    "#define the motif feature patterns \n",
    "motif ={\n",
    "\"MKTLLLTLVVVTIVCLDLGY\" : \"MKTLLLTLVVVTIVCLDLGY\",\n",
    "\"WGGQGTPKDATDRCCFVHDCCY\" : \"WGGQGTPKDATDRCCFVHDCCY\",\n",
    "\"KPGVDIKCCSTDKCN\" : \"KPGVDIKCCSTDKCN\",\n",
    "\"MFTVFLLVVLATTVV\" : \"MFTVFLLVVLATTVV\",\n",
    "\"IVCGKNDPCLRAICECDRAAAICFRENLNTYNKNYMYYSDSRCTEESEQC\" : \"IVCGKNDPCLRAICECDRAAAICFRENLNTYNKNYMYYSDSRCTEESEQC\",\n",
    "\"CPPGZNJCYKKTWCD\" : \"CPPGZNJCYKKTWCD\",\n",
    "\"PS00118\" : \"CC[A-OQ-Z][A-Z]H[A-FH-KM-XZ][A-Z]C\",\n",
    "\"PS00119\" : \"[LIVMA]C[ABDEGHJKNOQRUXZ]CD[A-FH-RT-Z][A-FH-Z][A-MO-Z][A-Z][A-PRT-Z]C\",\n",
    "\"PS00272\" : \"GC[A-Z]{1,3}CP[A-Z]{8,10}CC[A-Z]{2}[PDEN]\",\n",
    "\"PS00280\" : \"F[A-Z]{2}[A-HJ-Z]GC[A-Z]{6}[FY][A-Z]{5}C\",\n",
    "\"PS60004\" : \"C[SREYKLIMQVN][A-Z]{2}[DGWET][A-Z][FYSPKV]C[GNDSRHTP][A-Z]{1,5}[NPGSMTAHF][GWPNIYRSKLQ][A-Z]CC[STRHGD][A-Z]{0,2}[NFLWSRYIT]C[A-Z]{0,3}[VFGAITSNRKL][FLIKRNGH][VWIARKF]C\",\n",
    "\"PS60005\" : \"C[A-Z]{2}[EPSAGT][A-Z]{3}C[GSNDL][A-Z]{0,3}[PILV][A-Z][FPNDSG][GQ][A-Z]CC[A-Z]{3,4}C[FLVIA][A-Z]{1,2}[FVIWA]C\",\n",
    "\"PS60013\" : \"CC[TGN][PFG][PRG][A-Z]{0,2}C[KRS][DS][RK][RQW]C[KR][PD][MLQH][A-Z]?[KR]CC \",\n",
    "\"PS60014\" : \"CC[SHYN][A-Z]?[PRG][RPATV]C[ARMFTNHG][A-Z]{0,4}[QWHDGENLFYVP][RIVYLGSDW]C\",\n",
    "\"PS60015\" : \"C[LAV][A-Z][DEK][A-Z]{3}C[A-Z]{6,7}CC[A-Z]{4}C[A-Z]C[A-Z]{5}C[A-Z]C\",\n",
    "\"PS60021\" : \"C[KALRVG][A-Z][A-LN-Z][A-Z]{1,3}C[A-Z]{4,6}CC[A-Z]{4,6}C[A-Z]{4}[ERK]WC\",\n",
    "\"PS60022\" : \"C[A-Z]{1,4}[FLIV][SEP]C[DE][EIQ][A-Z]{4,7}C[A-Z]{0,7}C[KST][A-Z]{4,18}C[YK][A-Z]{1,3}C\",\n",
    "\"PS60023\" : \"CQCC[A-Z]{2}N[GA][FY]CS\",\n",
    "\"PS60025\" : \"GEEE[A-Z]{2}[KE][A-DF-Z]{2}[A-Z]?E[A-Z][ILA]RE\" \n",
    "}\n",
    "motifName = []\n",
    "for key in motif:\n",
    "    motifName = motifName + [key]\n",
    "\n",
    "# get the motif feature values of the example sequence\n",
    "motifValue = {}\n",
    "for proteinID in record_dict.keys():\n",
    "    motifValue[proteinID]=[]\n",
    "    for feature in motif:\n",
    "        match  = re.search(r'%s'%motif[feature], str(record_dict[proteinID].seq))\n",
    "        if match:\n",
    "            motifValue[proteinID].append(\"1\")\n",
    "        else:\n",
    "            motifValue[proteinID].append(\"0\")"
   ]
  },
  {
   "cell_type": "code",
   "execution_count": 8,
   "metadata": {},
   "outputs": [],
   "source": [
    "# get 102 sequence feature values\n",
    "path = \"102iFeatureTypes.txt\"\n",
    "lines = [line for line in open(path)]\n",
    "mylist = []\n",
    "\n",
    "for line in lines:\n",
    "    line = line.replace(\"\\n\",\"\")\n",
    "    splited = line.split(\"\\t\")\n",
    "    mylist.append(splited)\n",
    "\n",
    "features = []\n",
    "iFeatureValues = {}\n",
    "for key in motifValue.keys():\n",
    "    iFeatureValues[key] = []\n",
    "\n",
    "for i in range(len(mylist)):\n",
    "    path = \"output/\"+mylist[i][0]+\".txt\"\n",
    "    with open(path) as f:\n",
    "        content = f.readlines()\n",
    "    for j in range(len(mylist[i])):\n",
    "        if j > 0:\n",
    "            if(mylist[i][j] in content[0]):\n",
    "                sss = content[0].split(\"\\t\");\n",
    "                ind = 0\n",
    "                for s in sss:\n",
    "                    if s == mylist[i][j]:\n",
    "                        break;\n",
    "                    ind = ind +1\n",
    "                if \"DDE\"== mylist[i][0]:\n",
    "                    sss[ind] = sss[ind]+\"_DDE\"\n",
    "                if \"DPC\"== mylist[i][0]:\n",
    "                    sss[ind] = sss[ind]+\"_DPC\"\n",
    "                if \"NMBROTO\" == mylist[i][0]:\n",
    "                    sss[ind] = sss[ind]+\"nmbroto\"\n",
    "                features = features + [sss[ind]]\n",
    "                \n",
    "                for k in range(1,len(content)):\n",
    "                    valuesss=[]\n",
    "                    ddd = content[k].split(\"\\t\") \n",
    "                    valuesss.append(ddd[ind])\n",
    "                    iFeatureValues[ddd[0]] = iFeatureValues[ddd[0]] + [ddd[ind]]"
   ]
  },
  {
   "cell_type": "code",
   "execution_count": 9,
   "metadata": {},
   "outputs": [],
   "source": [
    "# combine motif and ifeature together\n",
    "featureName = motifName + features\n",
    "\n",
    "for key in motifValue.keys():\n",
    "    motifValue[key] = motifValue[key]+iFeatureValues[key]"
   ]
  },
  {
   "cell_type": "code",
   "execution_count": 10,
   "metadata": {},
   "outputs": [
    {
     "name": "stderr",
     "output_type": "stream",
     "text": [
      "/Library/Frameworks/Python.framework/Versions/3.7/lib/python3.7/site-packages/xgboost/core.py:587: FutureWarning: Series.base is deprecated and will be removed in a future version\n",
      "  if getattr(data, 'base', None) is not None and \\\n",
      "/Library/Frameworks/Python.framework/Versions/3.7/lib/python3.7/site-packages/xgboost/core.py:588: FutureWarning: Series.base is deprecated and will be removed in a future version\n",
      "  data.base is not None and isinstance(data, np.ndarray) \\\n"
     ]
    }
   ],
   "source": [
    "# training and save the model to a file\n",
    "\n",
    "# fix the order of the features to the same order in the train\n",
    "df = pd.read_csv(\"PrePostFinal111.csv\")\n",
    "X = df.iloc[:,:-1]\n",
    "y = df.iloc[:,-1]\n",
    "\n",
    "data_dmatrix = xgb.DMatrix(data=X,label=y)\n",
    "featureN = data_dmatrix.feature_names\n",
    "\n",
    "newName = []\n",
    "for w in X.columns.tolist():\n",
    "    if \"-gp1\" in w:\n",
    "        w = w.replace(\"-gp1\",\"\")\n",
    "    newName = newName+[w]\n",
    "\n",
    "X.columns = newName\n",
    "\n",
    "# reorder the training data according tot he columns in test data\n",
    "columnsList = X.columns.tolist();\n",
    "X = X[featureName] \n",
    "\n",
    "# # save trained model to file\n",
    "# data_dmatrix = xgb.DMatrix(data=X,label=y)\n",
    "# param = {'max_depth':6, 'eta':1, 'silent':1, 'objective':'binary:logistic'}\n",
    "# num_round = 100\n",
    "# classifier = xgb.train(param, data_dmatrix, num_round)\n",
    "# pickle.dump(classifier, open(\"xgboostPrePost.dat\", \"wb\"))\n",
    "# print(\"XGBoost classifier already trained and saved to a file xgboostPrePost.dat\")\n"
   ]
  },
  {
   "cell_type": "code",
   "execution_count": 11,
   "metadata": {},
   "outputs": [
    {
     "name": "stdout",
     "output_type": "stream",
     "text": [
      "  Protein ID  Prob(Pre)  Prob(Post) Predicted Class\n",
      "0     P58806   0.999418    0.000582             Pre\n",
      "1     Q25338   0.408983    0.591017            Post\n"
     ]
    },
    {
     "name": "stderr",
     "output_type": "stream",
     "text": [
      "/Library/Frameworks/Python.framework/Versions/3.7/lib/python3.7/site-packages/ipykernel_launcher.py:7: FutureWarning: convert_objects is deprecated.  To re-infer data dtypes for object columns, use DataFrame.infer_objects()\n",
      "For all other conversions use the data-type specific converters pd.to_datetime, pd.to_timedelta and pd.to_numeric.\n",
      "  import sys\n"
     ]
    }
   ],
   "source": [
    "# load model from file\n",
    "loaded_model = pickle.load(open(\"xgboostPrePost.dat\", \"rb\"))\n",
    "\n",
    "# generate test data\n",
    "dataTest = pd.DataFrame(list(motifValue.values()))\n",
    "dataTest.columns = X.columns.tolist()\n",
    "dataTest = dataTest.convert_objects(convert_numeric=True)\n",
    "testMatrix=xgb.DMatrix(dataTest)\n",
    "\n",
    "# make predictions for test data: 0 is for post, 1 is for pre\n",
    "predictProb = loaded_model.predict(testMatrix) # the predicted probabilities for the pre\n",
    "\n",
    "predictClass = [round(value) for value in predictProb] # the predicted class labels\n",
    "\n",
    "classes = []\n",
    "for w in predictClass:\n",
    "    if w == 0.0:\n",
    "        w=\"Pre\"\n",
    "    else:\n",
    "        w=\"Post\"\n",
    "    classes.append(w)\n",
    "\n",
    "#  pre is 1, post is o\n",
    "proteinsList = list(record_dict.keys()) # protein ID for the test\n",
    "\n",
    "result = []\n",
    "for i in range(len(proteinsList)):\n",
    "    rei = [proteinsList[i]] + [1-predictProb[i]]+[predictProb[i]]+[classes[i]]\n",
    "    result = result + [rei]\n",
    "\n",
    "# put the result into a table\n",
    "resultDF = pd.DataFrame(result)\n",
    "resultDF.columns = [\"Protein ID\",\"Prob(Pre)\",\"Prob(Post)\",\"Predicted Class\"]\n",
    "print(resultDF)\n",
    "resultDF.to_csv(\"predict_output.csv\", sep='\\t')\n"
   ]
  },
  {
   "cell_type": "code",
   "execution_count": null,
   "metadata": {},
   "outputs": [],
   "source": []
  }
 ],
 "metadata": {
  "kernelspec": {
   "display_name": "Python 3",
   "language": "python",
   "name": "python3"
  },
  "language_info": {
   "codemirror_mode": {
    "name": "ipython",
    "version": 3
   },
   "file_extension": ".py",
   "mimetype": "text/x-python",
   "name": "python",
   "nbconvert_exporter": "python",
   "pygments_lexer": "ipython3",
   "version": "3.7.0"
  }
 },
 "nbformat": 4,
 "nbformat_minor": 2
}
